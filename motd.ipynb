{
 "cells": [
  {
   "cell_type": "markdown",
   "id": "97d7183e-7b6f-4ba2-8e29-a8bba0880e82",
   "metadata": {},
   "source": [
    "---\n",
    "title: \"MOTD\"\n",
    "---"
   ]
  },
  {
   "cell_type": "markdown",
   "id": "57c7c440-f747-4935-bc75-41ae2e9c658e",
   "metadata": {},
   "source": [
    " - Report problems - trouble@stat.berkeley.edu\n",
    " - Read our docs   - https://statistics.berkeley.edu/computing"
   ]
  },
  {
   "cell_type": "code",
   "execution_count": 1,
   "id": "9b7d8b68-31b3-4986-b5d7-5459e2eb6c08",
   "metadata": {},
   "outputs": [],
   "source": [
    "from pathlib import Path"
   ]
  },
  {
   "cell_type": "code",
   "execution_count": 17,
   "id": "0f2bf3f4-89dc-4143-aba7-b5f35c3cbdeb",
   "metadata": {},
   "outputs": [],
   "source": [
    "from ipyfilechooser import FileChooser\n",
    "from IPython.display import display"
   ]
  },
  {
   "cell_type": "code",
   "execution_count": 19,
   "id": "6793a31b-e1bd-4ef4-a02e-cb5b8a67e6e2",
   "metadata": {},
   "outputs": [
    {
     "data": {
      "application/vnd.jupyter.widget-view+json": {
       "model_id": "61c6c1d942a241f7a24ac0597ae9d69b",
       "version_major": 2,
       "version_minor": 0
      },
      "text/plain": [
       "FileChooser(path='/Users/rylo/proj/berkeley-scf/myst/motd', filename='', title='', show_hidden=False, select_d…"
      ]
     },
     "metadata": {},
     "output_type": "display_data"
    }
   ],
   "source": [
    "# Create a FileChooser in directory-only mode\n",
    "contents = FileChooser('motd', show_only_dirs=True)\n",
    "display(contents)"
   ]
  },
  {
   "cell_type": "code",
   "execution_count": 22,
   "id": "172a8c46-f644-4301-bf38-488973716868",
   "metadata": {},
   "outputs": [],
   "source": [
    "contents_dir = Path(contents.selected_path)"
   ]
  },
  {
   "cell_type": "code",
   "execution_count": 24,
   "id": "23ed011b-bc93-4119-b84d-b9a7a2f73fdf",
   "metadata": {},
   "outputs": [],
   "source": [
    "files = list(contents_dir.glob(\"*.md\"))"
   ]
  },
  {
   "cell_type": "code",
   "execution_count": 25,
   "id": "57c5b9b2-ca7e-4e60-bc6b-607486dbb188",
   "metadata": {},
   "outputs": [],
   "source": [
    "def extract_title_from_file(filepath):\n",
    "    with open(filepath, \"r\") as fh:\n",
    "        lines = fh.readlines()\n",
    "    # Try to extract from frontmatter using yaml\n",
    "    if lines and lines[0].strip() == \"---\":\n",
    "        frontmatter_lines = []\n",
    "        for line in lines[1:]:\n",
    "            if line.strip() == \"---\":\n",
    "                break\n",
    "            frontmatter_lines.append(line)\n",
    "        try:\n",
    "            frontmatter = yaml.safe_load(\"\".join(frontmatter_lines))\n",
    "            if isinstance(frontmatter, dict) and \"title\" in frontmatter:\n",
    "                return str(frontmatter[\"title\"]).strip()\n",
    "        except Exception:\n",
    "            pass\n",
    "    return Path(filepath).stem"
   ]
  },
  {
   "cell_type": "code",
   "execution_count": 26,
   "id": "f7f15691-7ca1-4e40-9e8d-54742feba342",
   "metadata": {},
   "outputs": [],
   "source": [
    "def extract_body_from_file(filepath):\n",
    "    with open(filepath, \"r\") as fh:\n",
    "        lines = fh.readlines()\n",
    "    # Skip frontmatter if present\n",
    "    body_lines = []\n",
    "    in_frontmatter = False\n",
    "    for i, line in enumerate(lines):\n",
    "        if i == 0 and line.strip() == '---':\n",
    "            in_frontmatter = True\n",
    "            continue\n",
    "        if in_frontmatter:\n",
    "            if line.strip() == '---':\n",
    "                in_frontmatter = False\n",
    "            continue\n",
    "        body_lines.append(line)\n",
    "    return ''.join(body_lines).strip()"
   ]
  },
  {
   "cell_type": "code",
   "execution_count": 30,
   "id": "3654dbea-f788-4679-aa8e-0ec0c8f629e9",
   "metadata": {},
   "outputs": [],
   "source": [
    "all_bodies = \"\"\n",
    "include_template = ':::{{include}} {filename}\\n:::\\n\\n'\n",
    "for filename in files:\n",
    "    all_bodies += include_template.format(filename=filename)\n",
    "    "
   ]
  },
  {
   "cell_type": "markdown",
   "id": "4cc67f05-23f9-4f30-9e75-eabe64f40926",
   "metadata": {
    "user_expressions": [
     {
      "expression": "all_bodies",
      "result": {
       "data": {
        "text/plain": "':::{include} /Users/rylo/proj/berkeley-scf/myst/motd/2025-02-06-evans-networks.md\\n:::\\n\\n:::{include} /Users/rylo/proj/berkeley-scf/myst/motd/2025-04-12-lambda.md\\n:::\\n\\n:::{include} /Users/rylo/proj/berkeley-scf/myst/motd/2025-03-03-slurm-scheduler.md\\n:::\\n\\n:::{include} /Users/rylo/proj/berkeley-scf/myst/motd/2025-03-21-os-upgrades.md\\n:::\\n\\n:::{include} /Users/rylo/proj/berkeley-scf/myst/motd/2025-04-01-software.md\\n:::\\n\\n:::{include} /Users/rylo/proj/berkeley-scf/myst/motd/2025-02-20-arwen.md\\n:::\\n\\n:::{include} /Users/rylo/proj/berkeley-scf/myst/motd/2025-04-03-jupyterhub.md\\n:::\\n\\n:::{include} /Users/rylo/proj/berkeley-scf/myst/motd/2025-04-25-network.md\\n:::\\n\\n:::{include} /Users/rylo/proj/berkeley-scf/myst/motd/2025-01-04-power-outage.md\\n:::\\n\\n:::{include} /Users/rylo/proj/berkeley-scf/myst/motd/2025-04-29-backups.md\\n:::\\n\\n'"
       },
       "metadata": {},
       "status": "ok"
      }
     }
    ]
   },
   "source": [
    "{eval}`all_bodies`"
   ]
  },
  {
   "cell_type": "markdown",
   "id": "ecd2bab3-a9c9-4b58-b519-aa3cfd6c0757",
   "metadata": {},
   "source": [
    "{eval}`contents`"
   ]
  },
  {
   "cell_type": "code",
   "execution_count": 15,
   "id": "6d0cc2e3-4ceb-46a9-a827-e18756c02cef",
   "metadata": {},
   "outputs": [],
   "source": [
    "array = [0, 1, 2, 3]"
   ]
  },
  {
   "cell_type": "markdown",
   "id": "ab0f34d8-b8d9-4826-b6d9-c7ff7360a390",
   "metadata": {
    "user_expressions": [
     {
      "expression": "all_bodies",
      "result": {
       "data": {
        "text/plain": "'## Investigating 2025-02-06 11:30p\\n\\nSeveral wired networks in Evans Hall are down at the moment. I\\'ve reported it to campus.\\n\\n## Resolved 2025-02-07 12:28a\\n\\nThe networks started to come back online a few minutes after midnight.\\n\\n## Investigating 2025-04-12\\n\\nThe lambda head node is not accessible. I\\'ve asked the data center folks (in Washington) to investigate.\\n\\n## Resolved 2025-04-16 11:00a\\n\\nThe lambda cluster\\'s head node was having network interface problems. They are clear for the time being.\\n\\n::: {.callout-note}\\nThis is a reminder for the upgrade announcement originally sent on February 19.\\n:::\\n\\n## Announcement\\n\\nWe are planning to do a minor software update on the SCF SLURM scheduler, which manages batch and JupyterHub jobs on the cluster, on Tuesday, March 4 at 1:00pm.\\n\\nWe anticipate that jobs that are currently running or queued on the cluster will experience no interruption. However, the ability to run or queue new jobs will be impacted for up to 60 minutes.\\n\\nThere is a very small possibility that currently-running jobs may be interrupted. We will be taking every possible precaution to ensure this does not happen, and we will send an announcement immediately if this does occur.\\n\\nPlease email trouble@stat.berkeley.edu if you have any questions or concerns regarding this announcement.\\n\\n## Update\\n\\nThe SCF Slurm scheduler software update is now complete. The cluster is back online and accepting jobs. So far we have seen no indication that any of the already running jobs were impacted.\\n\\nIf you notice any new issues with Slurm, please contact trouble@stat.berkeley.edu with a description of the problem.\\n\\nWe will be performing operating system upgrades on all of our compute servers during the upcoming spring break. The upgrades will occur in batches from Monday, March 24, through Thursday, March 27, starting each morning at approximately 8:30am. We will begin with the least active nodes.\\n\\nYour home and scratch directories will not be affected, however /tmp and /var/tmp on each machine will be wiped. /data partitions, which exist on a small number of systems, will not be impacted.\\n\\nWe will place reservations on the systems to be upgraded about 72 hours in advance. If you currently have or plan to start jobs that you expect to run into next week, please ensure that your code can resume from where it left off if interrupted. For jobs starting before the upgrade, we recommend setting a time limit of no more than 72 hours.\\n\\nSelf-Installed Packages\\nIf you have installed your own R packages, you will need to reinstall them after the upgrade or request that we install them system-wide. Check your packages in ~/R/x86_64-pc-linux-gnu-library in versioned subdirectories. Although these directories will remain after the upgrade, R on the new system will look in ~/R/x86_64-pc-linux-gnu-library-ubuntu-24.04/. This is necessary because compiled R packages link against system libraries from the old OS, which may not exist or have different versions on the new OS. To request system-wide installation, please contact us at consult@stat.berkeley.edu.\\n\\nPython packages installed via conda are not affected. If you have installed Python packages using pip and the setup involves compiling shared objects, these libraries will need to be reinstalled. Compiling shared objects typically means that the package installation involves building components that link to system libraries. If you\\'re unsure which packages need reinstallation, you can check the package documentation or contact us for assistance.\\n\\nWith the recent operating system upgrade to Ubuntu 24.04,\\nwe have also upgraded to Python 3.13 and R 4.4.3. Older versions are\\navailable via the module system.\\n\\n## Investigating 2025-02-20 10:13a\\n\\nThe login node arwen is having hardware issues and has locked up several times recently. It is offline while we investigate the problem.\\n\\n## Resolved  2025-02-21 4:06p\\n\\narwen is back online after performing memory stress tests without incident.\\n\\n## Investigating 2025-04-03 10:06a\\n\\narwen seems to be having RAM issues -- possibly due to a hardware problem. We recommend that you use [an alternative](https://statistics.berkeley.edu/computing/servers/login-servers) for the time being.\\n\\n## Monitoring  2025-04-03 2:06p\\n\\narwen is back online after removing a memory module.\\n\\nI have updated the default python kernel from 3.12 to 3.13 to match the login environment of our recently upgraded systems. The previous kernel is still available as \"Python 3.12\" in the jupyter lab launcher.\\n\\nI\\'ve also updated the remote desktop feature. The latest version supports copy/paste and desktop resizing, has a link back to the hub, and uses a unix socket for security.\\n\\nWe\\'ll be doing some maintenance to the network interfaces of our file server starting today at 2p. Our goal is to increase the network bandwidth of our file server. We anticipate that the outage will be very brief (one minute), however there is a slim possibility we may have to reboot the machine. Running jobs should not be terminated in either case.\\n\\n## Investigating 2025-01-04 9:27a\\n\\nI just received word that there is a power outage affecting the north side of campus. Unfortunately this has hit our server rooms and all systems are down. I’ll respond with updates when I know more. \\n\\n## Monitoring 2025-01-04 11:06a\\n\\nPower is still out in Evans Hall. Emergency lights are on, and the card readers are not functional. \\n\\n## Resolved 2025-01-04 4:00p\\n\\nCampus issued WarnMe notifications that power was restored Saturday afternoon. Most machines were brought up by 4p or so, although some need local attention so I\\'ll bring them up Monday.\\n\\nWe will be running the monthly backups Sunday, May  4 beginning in the\\nafternoon.\\n\\nComputers will not be rebooted or unavailable, nor will processes\\nbe terminated. You may experience slightly slower input/output\\nperformance until the dumps are complete.\\n\\n'"
       },
       "metadata": {},
       "status": "ok"
      }
     }
    ]
   },
   "source": [
    ":::{exercise}\n",
    ":label: inline-arrays\n",
    "\n",
    "Let's consider the following array: G\n",
    "\n",
    "SUM\n",
    ": We compute the total using `array.sum()`, which is ???\n",
    "\n",
    "MAX\n",
    ": We compute the maximum value using `array.max()`, which is ???\n",
    "\n",
    ":::\n",
    "\n",
    ":::{card}\n",
    "\n",
    "{eval}`all_bodies`\n",
    "\n",
    ":::"
   ]
  },
  {
   "cell_type": "code",
   "execution_count": null,
   "id": "c1b84c81-7379-4eb9-b7df-71d81e8ae35e",
   "metadata": {},
   "outputs": [],
   "source": []
  }
 ],
 "metadata": {
  "kernelspec": {
   "display_name": "Python 3 (ipykernel)",
   "language": "python",
   "name": "python3"
  },
  "language_info": {
   "codemirror_mode": {
    "name": "ipython",
    "version": 3
   },
   "file_extension": ".py",
   "mimetype": "text/x-python",
   "name": "python",
   "nbconvert_exporter": "python",
   "pygments_lexer": "ipython3",
   "version": "3.12.3"
  }
 },
 "nbformat": 4,
 "nbformat_minor": 5
}
